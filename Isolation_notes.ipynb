{
 "cells": [
  {
   "cell_type": "markdown",
   "metadata": {},
   "source": [
    "# Isolation Project Lecture Notes\n",
    "### December 2017, by Jude Moon\n",
    "\n",
    "windows, Python3.6, [aind-environment-windows.yml](http://video.udacity-data.com.s3.amazonaws.com/topher/2017/April/58ee7f6c_aind-environment-windows/aind-environment-windows.yml)\n",
    "***\n",
    "\n",
    "## Main Topics\n",
    "1. Adversarial Search\n",
    "2. MiniMax Algorithm\n",
    "3. Alpha-Beta Pruning\n",
    "4. Evaluation Functions\n",
    "5. (Application) Isolation Game Player\n",
    "6. Examine multi-players & Probabilistic Games\n",
    "\n",
    "## What is Isolation Game?\n",
    "It is played by two players on a 5x5 board. A move can be made to a neighboring (horizontally, vertically, or diagonally) position that contains a current square and mark the current square as \"has been\" square. The player who cannot make any move loses the game.\n",
    "\n",
    "## Objective\n",
    "The objective in this course is to build a isolation game player, using AI techniques.\n",
    "\n",
    "## Concepts:\n",
    "- O: computer player move \n",
    "- X: an opponent\n",
    "- +1: win by the computer player\n",
    "- -1: win by the opponent\n",
    "- △: turn when the computer player is trying to maximize the score\n",
    "- ▽: turn thwn the opponent player is trying to minimize the score\n",
    "- See the [Tree](https://s3.amazonaws.com/content.udacity-data.com/courses/ud954/images/isolation-L6_minMax_complete.png)"
   ]
  },
  {
   "cell_type": "markdown",
   "metadata": {},
   "source": [
    "## MiniMax Algorithm\n",
    "\n",
    "### Part 1: Minimax Search Pseudocode \n",
    "![image](https://d17h27t6h515a5.cloudfront.net/topher/2017/July/596d2f7f_minimax-decision/minimax-decision.png)\n",
    "### Part 2: Game State Representation"
   ]
  },
  {
   "cell_type": "code",
   "execution_count": 1,
   "metadata": {
    "collapsed": true
   },
   "outputs": [],
   "source": [
    "xlim, ylim = 3, 2\n",
    "_board = [[0] * ylim for _ in range(xlim)]"
   ]
  },
  {
   "cell_type": "code",
   "execution_count": 2,
   "metadata": {
    "collapsed": false
   },
   "outputs": [
    {
     "data": {
      "text/plain": [
       "[[0, 0], [0, 0], [0, 0]]"
      ]
     },
     "execution_count": 2,
     "metadata": {},
     "output_type": "execute_result"
    }
   ],
   "source": [
    "_board"
   ]
  },
  {
   "cell_type": "code",
   "execution_count": null,
   "metadata": {
    "collapsed": true
   },
   "outputs": [],
   "source": [
    "from copy import deepcopy\n",
    "\n",
    "xlim, ylim = 3, 2  # board dimensions\n",
    "\n",
    "class GameState:\n",
    "    \"\"\"\n",
    "    Attributes\n",
    "    ----------\n",
    "    _board: list(list)\n",
    "        Represent the board with a 2d array _board[x][y]\n",
    "        where open spaces are 0 and closed spaces are 1\n",
    "    \n",
    "    _parity: bool\n",
    "        Keep track of active player initiative (which\n",
    "        player has control to move) where 0 indicates that\n",
    "        player one has initiative and 1 indicates player 2\n",
    "    \n",
    "    _player_locations: list(tuple)\n",
    "        Keep track of the current location of each player\n",
    "        on the board where position is encoded by the\n",
    "        board indices of their last move, e.g., [(0, 0), (1, 0)]\n",
    "        means player 1 is at (0, 0) and player 2 is at (1, 0)\n",
    "    \n",
    "    \"\"\"\n",
    "\n",
    "    def __init__(self):\n",
    "        self._board = [[0] * ylim for _ in range(xlim)]\n",
    "        self._board[-1][-1] = 1  # block lower-right corner\n",
    "        self._parity = 0\n",
    "        self._player_locations = [None, None]\n",
    "\n",
    "    def forecast_move(self, move):\n",
    "        \"\"\" Return a new board object with the specified move\n",
    "        applied to the current game state.\n",
    "        \n",
    "        Parameters\n",
    "        ----------\n",
    "        move: tuple\n",
    "            The target position for the active player's next move\n",
    "        \"\"\"\n",
    "        if move not in self.get_legal_moves():\n",
    "            raise RuntimeError(\"Attempted forecast of illegal move\")\n",
    "        newBoard = deepcopy(self)\n",
    "        newBoard._board[move[0]][move[1]] = 1\n",
    "        newBoard._player_locations[self._parity] = move\n",
    "        newBoard._parity ^= 1\n",
    "        return newBoard\n",
    "\n",
    "    def get_legal_moves(self):\n",
    "        \"\"\" Return a list of all legal moves available to the\n",
    "        active player.  Each player should get a list of all\n",
    "        empty spaces on the board on their first move, and\n",
    "        otherwise they should get a list of all open spaces\n",
    "        in a straight line along any row, column or diagonal\n",
    "        from their current position. (Players CANNOT move\n",
    "        through obstacles or blocked squares.)\n",
    "        \"\"\"\n",
    "        loc = self._player_locations[self._parity]\n",
    "        if not loc:\n",
    "            return self._get_blank_spaces()\n",
    "        moves = []\n",
    "        rays = [(1, 0), (1, -1), (0, -1), (-1, -1),\n",
    "                (-1, 0), (-1, 1), (0, 1), (1, 1)]\n",
    "        for dx, dy in rays:\n",
    "            _x, _y = loc\n",
    "            while 0 <= _x + dx < xlim and 0 <= _y + dy < ylim:\n",
    "                _x, _y = _x + dx, _y + dy\n",
    "                if self._board[_x][_y]:\n",
    "                    break\n",
    "                moves.append((_x, _y))\n",
    "        return moves\n",
    "\n",
    "    def _get_blank_spaces(self):\n",
    "        \"\"\" Return a list of blank spaces on the board.\"\"\"\n",
    "        return [(x, y) for y in range(ylim) for x in range(xlim)\n",
    "                if self._board[x][y] == 0]\n"
   ]
  },
  {
   "cell_type": "markdown",
   "metadata": {},
   "source": [
    "### Part 3: Implementing the Minimax Algorithm"
   ]
  },
  {
   "cell_type": "code",
   "execution_count": null,
   "metadata": {
    "collapsed": true
   },
   "outputs": [],
   "source": []
  },
  {
   "cell_type": "code",
   "execution_count": null,
   "metadata": {
    "collapsed": true
   },
   "outputs": [],
   "source": []
  }
 ],
 "metadata": {
  "kernelspec": {
   "display_name": "Python 3",
   "language": "python",
   "name": "python3"
  },
  "language_info": {
   "codemirror_mode": {
    "name": "ipython",
    "version": 3
   },
   "file_extension": ".py",
   "mimetype": "text/x-python",
   "name": "python",
   "nbconvert_exporter": "python",
   "pygments_lexer": "ipython3",
   "version": "3.6.0"
  }
 },
 "nbformat": 4,
 "nbformat_minor": 2
}
